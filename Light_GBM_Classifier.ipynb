{
  "nbformat": 4,
  "nbformat_minor": 0,
  "metadata": {
    "colab": {
      "name": "Light_GBM_Classifier.ipynb",
      "provenance": [],
      "collapsed_sections": [],
      "authorship_tag": "ABX9TyOYefCkLJLRLpm8LFXJCVpg",
      "include_colab_link": true
    },
    "kernelspec": {
      "name": "python3",
      "display_name": "Python 3"
    }
  },
  "cells": [
    {
      "cell_type": "markdown",
      "metadata": {
        "id": "view-in-github",
        "colab_type": "text"
      },
      "source": [
        "<a href=\"https://colab.research.google.com/github/gulabpatel/ML_Algos_Python/blob/main/Light_GBM_Classifier.ipynb\" target=\"_parent\"><img src=\"https://colab.research.google.com/assets/colab-badge.svg\" alt=\"Open In Colab\"/></a>"
      ]
    },
    {
      "cell_type": "code",
      "metadata": {
        "id": "jlpi6hT1Oj9g",
        "outputId": "6c199591-1ebe-4f15-c087-de2e0184727c",
        "colab": {
          "base_uri": "https://localhost:8080/",
          "height": 122
        }
      },
      "source": [
        "!pip install lightgbm"
      ],
      "execution_count": 1,
      "outputs": [
        {
          "output_type": "stream",
          "text": [
            "Requirement already satisfied: lightgbm in /usr/local/lib/python3.6/dist-packages (2.2.3)\n",
            "Requirement already satisfied: scipy in /usr/local/lib/python3.6/dist-packages (from lightgbm) (1.4.1)\n",
            "Requirement already satisfied: scikit-learn in /usr/local/lib/python3.6/dist-packages (from lightgbm) (0.22.2.post1)\n",
            "Requirement already satisfied: numpy in /usr/local/lib/python3.6/dist-packages (from lightgbm) (1.18.5)\n",
            "Requirement already satisfied: joblib>=0.11 in /usr/local/lib/python3.6/dist-packages (from scikit-learn->lightgbm) (0.17.0)\n"
          ],
          "name": "stdout"
        }
      ]
    },
    {
      "cell_type": "code",
      "metadata": {
        "id": "mQ5_TYCk8A6W"
      },
      "source": [
        "import pandas as pd"
      ],
      "execution_count": 2,
      "outputs": []
    },
    {
      "cell_type": "code",
      "metadata": {
        "id": "AMlQV3cj8NC2"
      },
      "source": [
        "df = pd.read_csv('/content/golf.csv')"
      ],
      "execution_count": 3,
      "outputs": []
    },
    {
      "cell_type": "code",
      "metadata": {
        "id": "GlBv11K98Uam",
        "outputId": "f35db05e-a0e3-4822-abfb-868b160a1cb8",
        "colab": {
          "base_uri": "https://localhost:8080/",
          "height": 483
        }
      },
      "source": [
        "df.head(20)"
      ],
      "execution_count": 4,
      "outputs": [
        {
          "output_type": "execute_result",
          "data": {
            "text/html": [
              "<div>\n",
              "<style scoped>\n",
              "    .dataframe tbody tr th:only-of-type {\n",
              "        vertical-align: middle;\n",
              "    }\n",
              "\n",
              "    .dataframe tbody tr th {\n",
              "        vertical-align: top;\n",
              "    }\n",
              "\n",
              "    .dataframe thead th {\n",
              "        text-align: right;\n",
              "    }\n",
              "</style>\n",
              "<table border=\"1\" class=\"dataframe\">\n",
              "  <thead>\n",
              "    <tr style=\"text-align: right;\">\n",
              "      <th></th>\n",
              "      <th>Outlook</th>\n",
              "      <th>Temp</th>\n",
              "      <th>Humidity</th>\n",
              "      <th>Windy</th>\n",
              "      <th>Play Golf</th>\n",
              "    </tr>\n",
              "  </thead>\n",
              "  <tbody>\n",
              "    <tr>\n",
              "      <th>0</th>\n",
              "      <td>Rainy</td>\n",
              "      <td>Hot</td>\n",
              "      <td>High</td>\n",
              "      <td>False</td>\n",
              "      <td>No</td>\n",
              "    </tr>\n",
              "    <tr>\n",
              "      <th>1</th>\n",
              "      <td>Rainy</td>\n",
              "      <td>Hot</td>\n",
              "      <td>High</td>\n",
              "      <td>True</td>\n",
              "      <td>No</td>\n",
              "    </tr>\n",
              "    <tr>\n",
              "      <th>2</th>\n",
              "      <td>Overcast</td>\n",
              "      <td>Hot</td>\n",
              "      <td>High</td>\n",
              "      <td>False</td>\n",
              "      <td>Yes</td>\n",
              "    </tr>\n",
              "    <tr>\n",
              "      <th>3</th>\n",
              "      <td>Sunny</td>\n",
              "      <td>Mild</td>\n",
              "      <td>High</td>\n",
              "      <td>False</td>\n",
              "      <td>Yes</td>\n",
              "    </tr>\n",
              "    <tr>\n",
              "      <th>4</th>\n",
              "      <td>Sunny</td>\n",
              "      <td>Cool</td>\n",
              "      <td>Normal</td>\n",
              "      <td>False</td>\n",
              "      <td>Yes</td>\n",
              "    </tr>\n",
              "    <tr>\n",
              "      <th>5</th>\n",
              "      <td>Sunny</td>\n",
              "      <td>Cool</td>\n",
              "      <td>Normal</td>\n",
              "      <td>True</td>\n",
              "      <td>No</td>\n",
              "    </tr>\n",
              "    <tr>\n",
              "      <th>6</th>\n",
              "      <td>Overcast</td>\n",
              "      <td>Cool</td>\n",
              "      <td>Normal</td>\n",
              "      <td>True</td>\n",
              "      <td>Yes</td>\n",
              "    </tr>\n",
              "    <tr>\n",
              "      <th>7</th>\n",
              "      <td>Rainy</td>\n",
              "      <td>Mild</td>\n",
              "      <td>High</td>\n",
              "      <td>False</td>\n",
              "      <td>No</td>\n",
              "    </tr>\n",
              "    <tr>\n",
              "      <th>8</th>\n",
              "      <td>Rainy</td>\n",
              "      <td>Cool</td>\n",
              "      <td>Normal</td>\n",
              "      <td>False</td>\n",
              "      <td>Yes</td>\n",
              "    </tr>\n",
              "    <tr>\n",
              "      <th>9</th>\n",
              "      <td>Sunny</td>\n",
              "      <td>Mild</td>\n",
              "      <td>Normal</td>\n",
              "      <td>False</td>\n",
              "      <td>Yes</td>\n",
              "    </tr>\n",
              "    <tr>\n",
              "      <th>10</th>\n",
              "      <td>Rainy</td>\n",
              "      <td>Mild</td>\n",
              "      <td>Normal</td>\n",
              "      <td>True</td>\n",
              "      <td>Yes</td>\n",
              "    </tr>\n",
              "    <tr>\n",
              "      <th>11</th>\n",
              "      <td>Overcast</td>\n",
              "      <td>Mild</td>\n",
              "      <td>High</td>\n",
              "      <td>True</td>\n",
              "      <td>Yes</td>\n",
              "    </tr>\n",
              "    <tr>\n",
              "      <th>12</th>\n",
              "      <td>Overcast</td>\n",
              "      <td>Hot</td>\n",
              "      <td>Normal</td>\n",
              "      <td>False</td>\n",
              "      <td>Yes</td>\n",
              "    </tr>\n",
              "    <tr>\n",
              "      <th>13</th>\n",
              "      <td>Sunny</td>\n",
              "      <td>Mild</td>\n",
              "      <td>High</td>\n",
              "      <td>True</td>\n",
              "      <td>No</td>\n",
              "    </tr>\n",
              "  </tbody>\n",
              "</table>\n",
              "</div>"
            ],
            "text/plain": [
              "     Outlook  Temp Humidity  Windy Play Golf\n",
              "0      Rainy   Hot     High  False        No\n",
              "1      Rainy   Hot     High   True        No\n",
              "2   Overcast   Hot     High  False       Yes\n",
              "3      Sunny  Mild     High  False       Yes\n",
              "4      Sunny  Cool   Normal  False       Yes\n",
              "5      Sunny  Cool   Normal   True        No\n",
              "6   Overcast  Cool   Normal   True       Yes\n",
              "7      Rainy  Mild     High  False        No\n",
              "8      Rainy  Cool   Normal  False       Yes\n",
              "9      Sunny  Mild   Normal  False       Yes\n",
              "10     Rainy  Mild   Normal   True       Yes\n",
              "11  Overcast  Mild     High   True       Yes\n",
              "12  Overcast   Hot   Normal  False       Yes\n",
              "13     Sunny  Mild     High   True        No"
            ]
          },
          "metadata": {
            "tags": []
          },
          "execution_count": 4
        }
      ]
    },
    {
      "cell_type": "code",
      "metadata": {
        "id": "BVoOmIUlARob",
        "outputId": "20a6472f-7422-4900-ab18-7ac24f295633",
        "colab": {
          "base_uri": "https://localhost:8080/",
          "height": 34
        }
      },
      "source": [
        "df.columns"
      ],
      "execution_count": 5,
      "outputs": [
        {
          "output_type": "execute_result",
          "data": {
            "text/plain": [
              "Index(['Outlook', 'Temp', 'Humidity', 'Windy', 'Play Golf'], dtype='object')"
            ]
          },
          "metadata": {
            "tags": []
          },
          "execution_count": 5
        }
      ]
    },
    {
      "cell_type": "code",
      "metadata": {
        "id": "Z2C8xNkGAU5B",
        "outputId": "1c76da02-db33-42ea-87da-d6c06f9a0d64",
        "colab": {
          "base_uri": "https://localhost:8080/",
          "height": 221
        }
      },
      "source": [
        "df.info()"
      ],
      "execution_count": 6,
      "outputs": [
        {
          "output_type": "stream",
          "text": [
            "<class 'pandas.core.frame.DataFrame'>\n",
            "RangeIndex: 14 entries, 0 to 13\n",
            "Data columns (total 5 columns):\n",
            " #   Column     Non-Null Count  Dtype \n",
            "---  ------     --------------  ----- \n",
            " 0   Outlook    14 non-null     object\n",
            " 1   Temp       14 non-null     object\n",
            " 2   Humidity   14 non-null     object\n",
            " 3   Windy      14 non-null     bool  \n",
            " 4   Play Golf  14 non-null     object\n",
            "dtypes: bool(1), object(4)\n",
            "memory usage: 590.0+ bytes\n"
          ],
          "name": "stdout"
        }
      ]
    },
    {
      "cell_type": "code",
      "metadata": {
        "id": "IWEHN4bFAgn9"
      },
      "source": [
        "import numpy as np\n",
        "from sklearn import preprocessing"
      ],
      "execution_count": 7,
      "outputs": []
    },
    {
      "cell_type": "code",
      "metadata": {
        "id": "V3KKgr3uBMCN"
      },
      "source": [
        "le = preprocessing.LabelEncoder()"
      ],
      "execution_count": 8,
      "outputs": []
    },
    {
      "cell_type": "code",
      "metadata": {
        "id": "X42jOMoSB9-3"
      },
      "source": [
        "for column in df.columns:\n",
        "  if df[column].dtypes == 'object':\n",
        "    le.fit(df[column])\n",
        "    encoded_feature = le.transform(df[column])\n",
        "    df[column] = pd.DataFrame(encoded_feature)"
      ],
      "execution_count": 9,
      "outputs": []
    },
    {
      "cell_type": "code",
      "metadata": {
        "id": "d_4KL6a-NaWG"
      },
      "source": [
        "le.fit(df['Windy'])\n",
        "encoded_feature = le.transform(df['Windy'])\n",
        "df['Windy'] = pd.DataFrame(encoded_feature)"
      ],
      "execution_count": 10,
      "outputs": []
    },
    {
      "cell_type": "code",
      "metadata": {
        "id": "uD2k_eoQD9Vs",
        "outputId": "ddc4b36e-6afc-4ef2-f31d-97690af90ab6",
        "colab": {
          "base_uri": "https://localhost:8080/",
          "height": 359
        }
      },
      "source": [
        "df.sample(10)"
      ],
      "execution_count": 11,
      "outputs": [
        {
          "output_type": "execute_result",
          "data": {
            "text/html": [
              "<div>\n",
              "<style scoped>\n",
              "    .dataframe tbody tr th:only-of-type {\n",
              "        vertical-align: middle;\n",
              "    }\n",
              "\n",
              "    .dataframe tbody tr th {\n",
              "        vertical-align: top;\n",
              "    }\n",
              "\n",
              "    .dataframe thead th {\n",
              "        text-align: right;\n",
              "    }\n",
              "</style>\n",
              "<table border=\"1\" class=\"dataframe\">\n",
              "  <thead>\n",
              "    <tr style=\"text-align: right;\">\n",
              "      <th></th>\n",
              "      <th>Outlook</th>\n",
              "      <th>Temp</th>\n",
              "      <th>Humidity</th>\n",
              "      <th>Windy</th>\n",
              "      <th>Play Golf</th>\n",
              "    </tr>\n",
              "  </thead>\n",
              "  <tbody>\n",
              "    <tr>\n",
              "      <th>11</th>\n",
              "      <td>0</td>\n",
              "      <td>2</td>\n",
              "      <td>0</td>\n",
              "      <td>1</td>\n",
              "      <td>1</td>\n",
              "    </tr>\n",
              "    <tr>\n",
              "      <th>9</th>\n",
              "      <td>2</td>\n",
              "      <td>2</td>\n",
              "      <td>1</td>\n",
              "      <td>0</td>\n",
              "      <td>1</td>\n",
              "    </tr>\n",
              "    <tr>\n",
              "      <th>7</th>\n",
              "      <td>1</td>\n",
              "      <td>2</td>\n",
              "      <td>0</td>\n",
              "      <td>0</td>\n",
              "      <td>0</td>\n",
              "    </tr>\n",
              "    <tr>\n",
              "      <th>12</th>\n",
              "      <td>0</td>\n",
              "      <td>1</td>\n",
              "      <td>1</td>\n",
              "      <td>0</td>\n",
              "      <td>1</td>\n",
              "    </tr>\n",
              "    <tr>\n",
              "      <th>13</th>\n",
              "      <td>2</td>\n",
              "      <td>2</td>\n",
              "      <td>0</td>\n",
              "      <td>1</td>\n",
              "      <td>0</td>\n",
              "    </tr>\n",
              "    <tr>\n",
              "      <th>3</th>\n",
              "      <td>2</td>\n",
              "      <td>2</td>\n",
              "      <td>0</td>\n",
              "      <td>0</td>\n",
              "      <td>1</td>\n",
              "    </tr>\n",
              "    <tr>\n",
              "      <th>8</th>\n",
              "      <td>1</td>\n",
              "      <td>0</td>\n",
              "      <td>1</td>\n",
              "      <td>0</td>\n",
              "      <td>1</td>\n",
              "    </tr>\n",
              "    <tr>\n",
              "      <th>5</th>\n",
              "      <td>2</td>\n",
              "      <td>0</td>\n",
              "      <td>1</td>\n",
              "      <td>1</td>\n",
              "      <td>0</td>\n",
              "    </tr>\n",
              "    <tr>\n",
              "      <th>10</th>\n",
              "      <td>1</td>\n",
              "      <td>2</td>\n",
              "      <td>1</td>\n",
              "      <td>1</td>\n",
              "      <td>1</td>\n",
              "    </tr>\n",
              "    <tr>\n",
              "      <th>1</th>\n",
              "      <td>1</td>\n",
              "      <td>1</td>\n",
              "      <td>0</td>\n",
              "      <td>1</td>\n",
              "      <td>0</td>\n",
              "    </tr>\n",
              "  </tbody>\n",
              "</table>\n",
              "</div>"
            ],
            "text/plain": [
              "    Outlook  Temp  Humidity  Windy  Play Golf\n",
              "11        0     2         0      1          1\n",
              "9         2     2         1      0          1\n",
              "7         1     2         0      0          0\n",
              "12        0     1         1      0          1\n",
              "13        2     2         0      1          0\n",
              "3         2     2         0      0          1\n",
              "8         1     0         1      0          1\n",
              "5         2     0         1      1          0\n",
              "10        1     2         1      1          1\n",
              "1         1     1         0      1          0"
            ]
          },
          "metadata": {
            "tags": []
          },
          "execution_count": 11
        }
      ]
    },
    {
      "cell_type": "code",
      "metadata": {
        "id": "bEWVBsczEAMz"
      },
      "source": [
        "X = df.drop(['Play Golf'], axis = 1)\n",
        "y = df['Play Golf']"
      ],
      "execution_count": 12,
      "outputs": []
    },
    {
      "cell_type": "code",
      "metadata": {
        "id": "9LSiW9WKF9xC",
        "outputId": "1bce87a1-b9a9-459c-eb3d-767a21cd99d8",
        "colab": {
          "base_uri": "https://localhost:8080/",
          "height": 221
        }
      },
      "source": [
        "df.info()"
      ],
      "execution_count": 13,
      "outputs": [
        {
          "output_type": "stream",
          "text": [
            "<class 'pandas.core.frame.DataFrame'>\n",
            "RangeIndex: 14 entries, 0 to 13\n",
            "Data columns (total 5 columns):\n",
            " #   Column     Non-Null Count  Dtype\n",
            "---  ------     --------------  -----\n",
            " 0   Outlook    14 non-null     int64\n",
            " 1   Temp       14 non-null     int64\n",
            " 2   Humidity   14 non-null     int64\n",
            " 3   Windy      14 non-null     int64\n",
            " 4   Play Golf  14 non-null     int64\n",
            "dtypes: int64(5)\n",
            "memory usage: 688.0 bytes\n"
          ],
          "name": "stdout"
        }
      ]
    },
    {
      "cell_type": "code",
      "metadata": {
        "id": "oELoRhjKOdb_"
      },
      "source": [
        "import lightgbm as gbm"
      ],
      "execution_count": 14,
      "outputs": []
    },
    {
      "cell_type": "code",
      "metadata": {
        "id": "Yt3XXZ0NO1GD"
      },
      "source": [
        "#convert X,y in gbm form\n",
        "gbm_train = gbm.Dataset(X,y,feature_name = ['Outlook','Temp','Humidity','Windy']\n",
        ",categorical_feature = ['Outlook','Windy'])"
      ],
      "execution_count": 15,
      "outputs": []
    },
    {
      "cell_type": "code",
      "metadata": {
        "id": "tGZDhafJQ1Ye",
        "outputId": "3bdf55e8-1397-4167-900a-c7a3fdd88da7",
        "colab": {
          "base_uri": "https://localhost:8080/",
          "height": 34
        }
      },
      "source": [
        "df['Play Golf'].unique()"
      ],
      "execution_count": 16,
      "outputs": [
        {
          "output_type": "execute_result",
          "data": {
            "text/plain": [
              "array([0, 1])"
            ]
          },
          "metadata": {
            "tags": []
          },
          "execution_count": 16
        }
      ]
    },
    {
      "cell_type": "code",
      "metadata": {
        "id": "I_6MFzr7P1xT"
      },
      "source": [
        "params = {\n",
        "    'boosting_type': 'gbdt',\n",
        "    'objective': 'multiclass',\n",
        "    #'objective': 'regression', #for regression\n",
        "    #'metric':'rmse\n",
        "       'num_class': len(df['Play Golf'].unique()),\n",
        "       'min_data':1\n",
        "}"
      ],
      "execution_count": 17,
      "outputs": []
    },
    {
      "cell_type": "code",
      "metadata": {
        "id": "nnvKUYyRRUyf",
        "outputId": "c80683d9-98ff-4767-bf85-ec93032647a4",
        "colab": {
          "base_uri": "https://localhost:8080/",
          "height": 71
        }
      },
      "source": [
        "gbm_model = gbm.train(params, gbm_train, num_boost_round=50)"
      ],
      "execution_count": 18,
      "outputs": [
        {
          "output_type": "stream",
          "text": [
            "/usr/local/lib/python3.6/dist-packages/lightgbm/basic.py:1205: UserWarning: Using categorical_feature in Dataset.\n",
            "  warnings.warn('Using categorical_feature in Dataset.')\n"
          ],
          "name": "stderr"
        }
      ]
    },
    {
      "cell_type": "code",
      "metadata": {
        "id": "6h7TGRyLRqgU"
      },
      "source": [
        "predictions = gbm_model.predict(X)"
      ],
      "execution_count": 19,
      "outputs": []
    },
    {
      "cell_type": "code",
      "metadata": {
        "id": "-D0waueDSzDt",
        "outputId": "77432482-452e-43e6-f413-3161a29439f4",
        "colab": {
          "base_uri": "https://localhost:8080/",
          "height": 255
        }
      },
      "source": [
        "predictions"
      ],
      "execution_count": 20,
      "outputs": [
        {
          "output_type": "execute_result",
          "data": {
            "text/plain": [
              "array([[0.99589453, 0.00410547],\n",
              "       [0.99589453, 0.00410547],\n",
              "       [0.00235277, 0.99764723],\n",
              "       [0.00235277, 0.99764723],\n",
              "       [0.00235277, 0.99764723],\n",
              "       [0.99589453, 0.00410547],\n",
              "       [0.00235277, 0.99764723],\n",
              "       [0.99589453, 0.00410547],\n",
              "       [0.00235277, 0.99764723],\n",
              "       [0.00235277, 0.99764723],\n",
              "       [0.00235277, 0.99764723],\n",
              "       [0.00235277, 0.99764723],\n",
              "       [0.00235277, 0.99764723],\n",
              "       [0.99589453, 0.00410547]])"
            ]
          },
          "metadata": {
            "tags": []
          },
          "execution_count": 20
        }
      ]
    },
    {
      "cell_type": "code",
      "metadata": {
        "id": "_h4IxB42Szql",
        "outputId": "adfed976-8e84-4cbf-98d1-79c407c612ef",
        "colab": {
          "base_uri": "https://localhost:8080/",
          "height": 255
        }
      },
      "source": [
        "index = 0\n",
        "for pred in predictions:\n",
        "  if np.argmax(pred) == 0:\n",
        "    p = \"No\"\n",
        "  else:\n",
        "    p = \"Yes\"\n",
        "    #-----------------------------\n",
        "  a = y[index]\n",
        "  if a == 0:\n",
        "    a = \"No\"\n",
        "  else:\n",
        "    a = \"Yes\"\n",
        "    #------------------------------\n",
        "  print(\"predictions is: \", p, \"   Whereas actual is :\", a)\n",
        "  index +=1"
      ],
      "execution_count": 24,
      "outputs": [
        {
          "output_type": "stream",
          "text": [
            "predictions is:  No    Whereas actual is : No\n",
            "predictions is:  No    Whereas actual is : No\n",
            "predictions is:  Yes    Whereas actual is : Yes\n",
            "predictions is:  Yes    Whereas actual is : Yes\n",
            "predictions is:  Yes    Whereas actual is : Yes\n",
            "predictions is:  No    Whereas actual is : No\n",
            "predictions is:  Yes    Whereas actual is : Yes\n",
            "predictions is:  No    Whereas actual is : No\n",
            "predictions is:  Yes    Whereas actual is : Yes\n",
            "predictions is:  Yes    Whereas actual is : Yes\n",
            "predictions is:  Yes    Whereas actual is : Yes\n",
            "predictions is:  Yes    Whereas actual is : Yes\n",
            "predictions is:  Yes    Whereas actual is : Yes\n",
            "predictions is:  No    Whereas actual is : No\n"
          ],
          "name": "stdout"
        }
      ]
    },
    {
      "cell_type": "markdown",
      "metadata": {
        "id": "lVq0bNA3Uu_h"
      },
      "source": [
        "##Interpretability"
      ]
    },
    {
      "cell_type": "code",
      "metadata": {
        "id": "2rCFQQGaVNm4"
      },
      "source": [
        "import matplotlib.pyplot as plt"
      ],
      "execution_count": 29,
      "outputs": []
    },
    {
      "cell_type": "code",
      "metadata": {
        "id": "AGf5SPYAUPVF",
        "outputId": "365deaf6-af8d-46de-f8bb-c581bb608b71",
        "colab": {
          "base_uri": "https://localhost:8080/",
          "height": 312
        }
      },
      "source": [
        "gbm.plot_importance(gbm_model, max_num_features=10)\n",
        "#plt.show()"
      ],
      "execution_count": 26,
      "outputs": [
        {
          "output_type": "execute_result",
          "data": {
            "text/plain": [
              "<matplotlib.axes._subplots.AxesSubplot at 0x7f26ef0714a8>"
            ]
          },
          "metadata": {
            "tags": []
          },
          "execution_count": 26
        },
        {
          "output_type": "display_data",
          "data": {
            "image/png": "[encoded data removed]",
            "text/plain": [
              "<Figure size 432x288 with 1 Axes>"
            ]
          },
          "metadata": {
            "tags": [],
            "needs_background": "light"
          }
        }
      ]
    },
    {
      "cell_type": "code",
      "metadata": {
        "id": "8nAYuwHhVe2T",
        "outputId": "61b6bb47-63c7-4207-ce1d-588e994d3e1f",
        "colab": {
          "base_uri": "https://localhost:8080/",
          "height": 354
        }
      },
      "source": [
        "fig_size = [20,20]\n",
        "plt.rcParams['figure.figsize'] = fig_size\n",
        "gbm.plot_tree(gbm_model)"
      ],
      "execution_count": 30,
      "outputs": [
        {
          "output_type": "execute_result",
          "data": {
            "text/plain": [
              "<matplotlib.axes._subplots.AxesSubplot at 0x7f26eeb9c198>"
            ]
          },
          "metadata": {
            "tags": []
          },
          "execution_count": 30
        },
        {
          "output_type": "display_data",
          "data": {
            "image/png": "[encoded data removed]",
            "text/plain": [
              "<Figure size 1440x1440 with 1 Axes>"
            ]
          },
          "metadata": {
            "tags": [],
            "needs_background": "light"
          }
        }
      ]
    },
    {
      "cell_type": "code",
      "metadata": {
        "id": "tAfp7IfNVsqk"
      },
      "source": [
        ""
      ],
      "execution_count": null,
      "outputs": []
    }
  ]
}