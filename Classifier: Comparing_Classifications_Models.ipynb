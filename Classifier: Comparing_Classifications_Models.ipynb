{
  "nbformat": 4,
  "nbformat_minor": 0,
  "metadata": {
    "colab": {
      "name": "Comparing Classifications Models.ipynb",
      "provenance": [],
      "authorship_tag": "ABX9TyMs/bDrCqQB+8mciw/oNkIi",
      "include_colab_link": true
    },
    "kernelspec": {
      "name": "python3",
      "display_name": "Python 3"
    }
  },
  "cells": [
    {
      "cell_type": "markdown",
      "metadata": {
        "id": "view-in-github",
        "colab_type": "text"
      },
      "source": [
        "<a href=\"https://colab.research.google.com/github/gulabpatel/ML-Algos/blob/main/Comparing_Classifications_Models.ipynb\" target=\"_parent\"><img src=\"https://colab.research.google.com/assets/colab-badge.svg\" alt=\"Open In Colab\"/></a>"
      ]
    },
    {
      "cell_type": "markdown",
      "metadata": {
        "id": "R8aVNDO2KWDl"
      },
      "source": [
        "#Generate Synthetic data"
      ]
    },
    {
      "cell_type": "code",
      "metadata": {
        "id": "oog9A34SJMKg"
      },
      "source": [
        "#Import Library\n",
        "import pandas as pd\n",
        "from sklearn.datasets import make_classification"
      ],
      "execution_count": 16,
      "outputs": []
    },
    {
      "cell_type": "code",
      "metadata": {
        "id": "-aqacks1KQMq"
      },
      "source": [
        "#Generate dataset\n",
        "X, y = make_classification(n_samples=1000, n_classes=2, n_features=5, n_redundant=0, random_state=1)"
      ],
      "execution_count": 18,
      "outputs": []
    },
    {
      "cell_type": "code",
      "metadata": {
        "id": "FCtYBYGsKv5l",
        "outputId": "7ce95f63-308e-468d-81b0-774a9de55617",
        "colab": {
          "base_uri": "https://localhost:8080/",
          "height": 34
        }
      },
      "source": [
        "X.shape, y.shape"
      ],
      "execution_count": 19,
      "outputs": [
        {
          "output_type": "execute_result",
          "data": {
            "text/plain": [
              "((1000, 5), (1000,))"
            ]
          },
          "metadata": {
            "tags": []
          },
          "execution_count": 19
        }
      ]
    },
    {
      "cell_type": "code",
      "metadata": {
        "id": "cQJGemrvKyVi"
      },
      "source": [
        "#Split dataset\n",
        "from sklearn.model_selection import train_test_split"
      ],
      "execution_count": 20,
      "outputs": []
    },
    {
      "cell_type": "code",
      "metadata": {
        "id": "h6_vn2OBK60F"
      },
      "source": [
        "X_train, X_test, y_train, y_test = train_test_split(X, y, test_size=0.2)"
      ],
      "execution_count": 21,
      "outputs": []
    },
    {
      "cell_type": "code",
      "metadata": {
        "id": "AjVmdfOmK_wE",
        "outputId": "e97dfed9-aebe-497c-a296-99bda8b8713d",
        "colab": {
          "base_uri": "https://localhost:8080/",
          "height": 34
        }
      },
      "source": [
        "X_train.shape, y_train.shape"
      ],
      "execution_count": 22,
      "outputs": [
        {
          "output_type": "execute_result",
          "data": {
            "text/plain": [
              "((800, 5), (800,))"
            ]
          },
          "metadata": {
            "tags": []
          },
          "execution_count": 22
        }
      ]
    },
    {
      "cell_type": "code",
      "metadata": {
        "id": "nibg5dUyLEe-",
        "outputId": "a5f864db-c1f4-4e21-f145-86c78d12faef",
        "colab": {
          "base_uri": "https://localhost:8080/",
          "height": 34
        }
      },
      "source": [
        "X_test.shape, y_test.shape"
      ],
      "execution_count": 23,
      "outputs": [
        {
          "output_type": "execute_result",
          "data": {
            "text/plain": [
              "((200, 5), (200,))"
            ]
          },
          "metadata": {
            "tags": []
          },
          "execution_count": 23
        }
      ]
    },
    {
      "cell_type": "markdown",
      "metadata": {
        "id": "z28Cnl5fLcBH"
      },
      "source": [
        "#Build Classification Models"
      ]
    },
    {
      "cell_type": "code",
      "metadata": {
        "id": "8P9EhAKLLJ0I"
      },
      "source": [
        "import pandas as pd\n",
        "\n",
        "from sklearn.neural_network import MLPClassifier\n",
        "from sklearn.neighbors import KNeighborsClassifier\n",
        "from sklearn.svm import SVC\n",
        "from sklearn.gaussian_process import GaussianProcessClassifier\n",
        "from sklearn.ensemble import GradientBoostingClassifier\n",
        "from sklearn.gaussian_process.kernels import RBF\n",
        "from sklearn.tree import DecisionTreeClassifier\n",
        "from sklearn.ensemble import ExtraTreesClassifier\n",
        "from sklearn.ensemble import RandomForestClassifier, AdaBoostClassifier\n",
        "from sklearn.naive_bayes import GaussianNB\n",
        "from sklearn.discriminant_analysis import QuadraticDiscriminantAnalysis\n",
        "from sklearn.linear_model import SGDClassifier"
      ],
      "execution_count": 24,
      "outputs": []
    },
    {
      "cell_type": "markdown",
      "metadata": {
        "id": "D_VHFkc2MPvm"
      },
      "source": [
        "##Defining learning classifiers"
      ]
    },
    {
      "cell_type": "code",
      "metadata": {
        "id": "z6mody7SMRAv"
      },
      "source": [
        "names = [\"Nearest_Neighbors\", \"Linear_SVM\", \"Polynomial_SVM\", \"RBF_SVM\", \"Gaussian_Process\",\n",
        "         \"Gradient_Boosting\", \"Decision_Tree\", \"Extra_Trees\", \"Random_Forest\", \"Neural_Net\", \"AdaBoost\",\n",
        "         \"Naive_Bayes\", \"QDA\", \"SGD\"]\n",
        "\n",
        "classifiers = [\n",
        "    KNeighborsClassifier(3),\n",
        "    SVC(kernel=\"linear\", C=0.025),\n",
        "    SVC(kernel=\"poly\", degree=3, C=0.025),\n",
        "    SVC(kernel=\"rbf\", C=1, gamma=2),\n",
        "    GaussianProcessClassifier(1.0 * RBF(1.0)),\n",
        "    GradientBoostingClassifier(n_estimators=100, learning_rate=1.0),\n",
        "    DecisionTreeClassifier(max_depth=5),\n",
        "    ExtraTreesClassifier(n_estimators=10, min_samples_split=2),\n",
        "    RandomForestClassifier(max_depth=5, n_estimators=100),\n",
        "    MLPClassifier(alpha=1, max_iter=1000),\n",
        "    AdaBoostClassifier(n_estimators=100),\n",
        "    GaussianNB(),\n",
        "    QuadraticDiscriminantAnalysis(),\n",
        "    SGDClassifier(loss=\"hinge\", penalty=\"l2\")]"
      ],
      "execution_count": 26,
      "outputs": []
    },
    {
      "cell_type": "markdown",
      "metadata": {
        "id": "rw9ZaMQhMZDx"
      },
      "source": [
        "##Build Model, Apply Model on Test Data & Record Accuracy Scores"
      ]
    },
    {
      "cell_type": "code",
      "metadata": {
        "id": "FfG5yvwwMVso"
      },
      "source": [
        "scores = []\n",
        "for name, clf in zip(names, classifiers):\n",
        "    clf.fit(X_train, y_train)\n",
        "    score = clf.score(X_test, y_test)\n",
        "    scores.append(score)"
      ],
      "execution_count": 27,
      "outputs": []
    },
    {
      "cell_type": "markdown",
      "metadata": {
        "id": "u0qb2Ap-Mg3N"
      },
      "source": [
        "#Model Performance"
      ]
    },
    {
      "cell_type": "markdown",
      "metadata": {
        "id": "94F1zIoXMrFw"
      },
      "source": [
        "##Create data frame of model performance"
      ]
    },
    {
      "cell_type": "code",
      "metadata": {
        "id": "pebcXqFdMc2S",
        "outputId": "76ad2990-90fb-4ac1-a227-ccb026afa564",
        "colab": {
          "base_uri": "https://localhost:8080/",
          "height": 483
        }
      },
      "source": [
        "df = pd.DataFrame()\n",
        "df['name'] = names\n",
        "df['score'] = scores\n",
        "df"
      ],
      "execution_count": 28,
      "outputs": [
        {
          "output_type": "execute_result",
          "data": {
            "text/html": [
              "<div>\n",
              "<style scoped>\n",
              "    .dataframe tbody tr th:only-of-type {\n",
              "        vertical-align: middle;\n",
              "    }\n",
              "\n",
              "    .dataframe tbody tr th {\n",
              "        vertical-align: top;\n",
              "    }\n",
              "\n",
              "    .dataframe thead th {\n",
              "        text-align: right;\n",
              "    }\n",
              "</style>\n",
              "<table border=\"1\" class=\"dataframe\">\n",
              "  <thead>\n",
              "    <tr style=\"text-align: right;\">\n",
              "      <th></th>\n",
              "      <th>name</th>\n",
              "      <th>score</th>\n",
              "    </tr>\n",
              "  </thead>\n",
              "  <tbody>\n",
              "    <tr>\n",
              "      <th>0</th>\n",
              "      <td>Nearest_Neighbors</td>\n",
              "      <td>0.815</td>\n",
              "    </tr>\n",
              "    <tr>\n",
              "      <th>1</th>\n",
              "      <td>Linear_SVM</td>\n",
              "      <td>0.840</td>\n",
              "    </tr>\n",
              "    <tr>\n",
              "      <th>2</th>\n",
              "      <td>Polynomial_SVM</td>\n",
              "      <td>0.800</td>\n",
              "    </tr>\n",
              "    <tr>\n",
              "      <th>3</th>\n",
              "      <td>RBF_SVM</td>\n",
              "      <td>0.830</td>\n",
              "    </tr>\n",
              "    <tr>\n",
              "      <th>4</th>\n",
              "      <td>Gaussian_Process</td>\n",
              "      <td>0.875</td>\n",
              "    </tr>\n",
              "    <tr>\n",
              "      <th>5</th>\n",
              "      <td>Gradient_Boosting</td>\n",
              "      <td>0.835</td>\n",
              "    </tr>\n",
              "    <tr>\n",
              "      <th>6</th>\n",
              "      <td>Decision_Tree</td>\n",
              "      <td>0.845</td>\n",
              "    </tr>\n",
              "    <tr>\n",
              "      <th>7</th>\n",
              "      <td>Extra_Trees</td>\n",
              "      <td>0.825</td>\n",
              "    </tr>\n",
              "    <tr>\n",
              "      <th>8</th>\n",
              "      <td>Random_Forest</td>\n",
              "      <td>0.860</td>\n",
              "    </tr>\n",
              "    <tr>\n",
              "      <th>9</th>\n",
              "      <td>Neural_Net</td>\n",
              "      <td>0.870</td>\n",
              "    </tr>\n",
              "    <tr>\n",
              "      <th>10</th>\n",
              "      <td>AdaBoost</td>\n",
              "      <td>0.835</td>\n",
              "    </tr>\n",
              "    <tr>\n",
              "      <th>11</th>\n",
              "      <td>Naive_Bayes</td>\n",
              "      <td>0.855</td>\n",
              "    </tr>\n",
              "    <tr>\n",
              "      <th>12</th>\n",
              "      <td>QDA</td>\n",
              "      <td>0.850</td>\n",
              "    </tr>\n",
              "    <tr>\n",
              "      <th>13</th>\n",
              "      <td>SGD</td>\n",
              "      <td>0.830</td>\n",
              "    </tr>\n",
              "  </tbody>\n",
              "</table>\n",
              "</div>"
            ],
            "text/plain": [
              "                 name  score\n",
              "0   Nearest_Neighbors  0.815\n",
              "1          Linear_SVM  0.840\n",
              "2      Polynomial_SVM  0.800\n",
              "3             RBF_SVM  0.830\n",
              "4    Gaussian_Process  0.875\n",
              "5   Gradient_Boosting  0.835\n",
              "6       Decision_Tree  0.845\n",
              "7         Extra_Trees  0.825\n",
              "8       Random_Forest  0.860\n",
              "9          Neural_Net  0.870\n",
              "10           AdaBoost  0.835\n",
              "11        Naive_Bayes  0.855\n",
              "12                QDA  0.850\n",
              "13                SGD  0.830"
            ]
          },
          "metadata": {
            "tags": []
          },
          "execution_count": 28
        }
      ]
    },
    {
      "cell_type": "markdown",
      "metadata": {
        "id": "WimP0PFoNZ-v"
      },
      "source": [
        "##Adding colors to the data frame"
      ]
    },
    {
      "cell_type": "code",
      "metadata": {
        "id": "3-29UzKSMulR",
        "outputId": "b5f2f7a2-45e0-4e06-8d69-018ba435a368",
        "colab": {
          "base_uri": "https://localhost:8080/",
          "height": 334
        }
      },
      "source": [
        "#https://pandas.pydata.org/pandas-docs/stable/user_guide/style.html\n",
        "import seaborn as sns\n",
        "cm = sns.light_palette(\"green\", as_cmap=True)\n",
        "s = df.style.background_gradient(cmap=cm)\n",
        "s"
      ],
      "execution_count": 30,
      "outputs": [
        {
          "output_type": "execute_result",
          "data": {
            "text/html": [
              "<style  type=\"text/css\" >\n",
              "#T_99460e36_0be3_11eb_a8ee_0242ac1c0002row0_col1{\n",
              "            background-color:  #bcdcbc;\n",
              "            color:  #000000;\n",
              "        }#T_99460e36_0be3_11eb_a8ee_0242ac1c0002row1_col1{\n",
              "            background-color:  #6db66d;\n",
              "            color:  #000000;\n",
              "        }#T_99460e36_0be3_11eb_a8ee_0242ac1c0002row2_col1{\n",
              "            background-color:  #ebf3eb;\n",
              "            color:  #000000;\n",
              "        }#T_99460e36_0be3_11eb_a8ee_0242ac1c0002row3_col1,#T_99460e36_0be3_11eb_a8ee_0242ac1c0002row13_col1{\n",
              "            background-color:  #8dc58d;\n",
              "            color:  #000000;\n",
              "        }#T_99460e36_0be3_11eb_a8ee_0242ac1c0002row4_col1{\n",
              "            background-color:  #008000;\n",
              "            color:  #f1f1f1;\n",
              "        }#T_99460e36_0be3_11eb_a8ee_0242ac1c0002row5_col1,#T_99460e36_0be3_11eb_a8ee_0242ac1c0002row10_col1{\n",
              "            background-color:  #7dbd7d;\n",
              "            color:  #000000;\n",
              "        }#T_99460e36_0be3_11eb_a8ee_0242ac1c0002row6_col1{\n",
              "            background-color:  #5eae5e;\n",
              "            color:  #000000;\n",
              "        }#T_99460e36_0be3_11eb_a8ee_0242ac1c0002row7_col1{\n",
              "            background-color:  #9ccd9c;\n",
              "            color:  #000000;\n",
              "        }#T_99460e36_0be3_11eb_a8ee_0242ac1c0002row8_col1{\n",
              "            background-color:  #2f972f;\n",
              "            color:  #000000;\n",
              "        }#T_99460e36_0be3_11eb_a8ee_0242ac1c0002row9_col1{\n",
              "            background-color:  #108810;\n",
              "            color:  #f1f1f1;\n",
              "        }#T_99460e36_0be3_11eb_a8ee_0242ac1c0002row11_col1{\n",
              "            background-color:  #3f9f3f;\n",
              "            color:  #000000;\n",
              "        }#T_99460e36_0be3_11eb_a8ee_0242ac1c0002row12_col1{\n",
              "            background-color:  #4ea64e;\n",
              "            color:  #000000;\n",
              "        }</style><table id=\"T_99460e36_0be3_11eb_a8ee_0242ac1c0002\" ><thead>    <tr>        <th class=\"blank level0\" ></th>        <th class=\"col_heading level0 col0\" >name</th>        <th class=\"col_heading level0 col1\" >score</th>    </tr></thead><tbody>\n",
              "                <tr>\n",
              "                        <th id=\"T_99460e36_0be3_11eb_a8ee_0242ac1c0002level0_row0\" class=\"row_heading level0 row0\" >0</th>\n",
              "                        <td id=\"T_99460e36_0be3_11eb_a8ee_0242ac1c0002row0_col0\" class=\"data row0 col0\" >Nearest_Neighbors</td>\n",
              "                        <td id=\"T_99460e36_0be3_11eb_a8ee_0242ac1c0002row0_col1\" class=\"data row0 col1\" >0.815000</td>\n",
              "            </tr>\n",
              "            <tr>\n",
              "                        <th id=\"T_99460e36_0be3_11eb_a8ee_0242ac1c0002level0_row1\" class=\"row_heading level0 row1\" >1</th>\n",
              "                        <td id=\"T_99460e36_0be3_11eb_a8ee_0242ac1c0002row1_col0\" class=\"data row1 col0\" >Linear_SVM</td>\n",
              "                        <td id=\"T_99460e36_0be3_11eb_a8ee_0242ac1c0002row1_col1\" class=\"data row1 col1\" >0.840000</td>\n",
              "            </tr>\n",
              "            <tr>\n",
              "                        <th id=\"T_99460e36_0be3_11eb_a8ee_0242ac1c0002level0_row2\" class=\"row_heading level0 row2\" >2</th>\n",
              "                        <td id=\"T_99460e36_0be3_11eb_a8ee_0242ac1c0002row2_col0\" class=\"data row2 col0\" >Polynomial_SVM</td>\n",
              "                        <td id=\"T_99460e36_0be3_11eb_a8ee_0242ac1c0002row2_col1\" class=\"data row2 col1\" >0.800000</td>\n",
              "            </tr>\n",
              "            <tr>\n",
              "                        <th id=\"T_99460e36_0be3_11eb_a8ee_0242ac1c0002level0_row3\" class=\"row_heading level0 row3\" >3</th>\n",
              "                        <td id=\"T_99460e36_0be3_11eb_a8ee_0242ac1c0002row3_col0\" class=\"data row3 col0\" >RBF_SVM</td>\n",
              "                        <td id=\"T_99460e36_0be3_11eb_a8ee_0242ac1c0002row3_col1\" class=\"data row3 col1\" >0.830000</td>\n",
              "            </tr>\n",
              "            <tr>\n",
              "                        <th id=\"T_99460e36_0be3_11eb_a8ee_0242ac1c0002level0_row4\" class=\"row_heading level0 row4\" >4</th>\n",
              "                        <td id=\"T_99460e36_0be3_11eb_a8ee_0242ac1c0002row4_col0\" class=\"data row4 col0\" >Gaussian_Process</td>\n",
              "                        <td id=\"T_99460e36_0be3_11eb_a8ee_0242ac1c0002row4_col1\" class=\"data row4 col1\" >0.875000</td>\n",
              "            </tr>\n",
              "            <tr>\n",
              "                        <th id=\"T_99460e36_0be3_11eb_a8ee_0242ac1c0002level0_row5\" class=\"row_heading level0 row5\" >5</th>\n",
              "                        <td id=\"T_99460e36_0be3_11eb_a8ee_0242ac1c0002row5_col0\" class=\"data row5 col0\" >Gradient_Boosting</td>\n",
              "                        <td id=\"T_99460e36_0be3_11eb_a8ee_0242ac1c0002row5_col1\" class=\"data row5 col1\" >0.835000</td>\n",
              "            </tr>\n",
              "            <tr>\n",
              "                        <th id=\"T_99460e36_0be3_11eb_a8ee_0242ac1c0002level0_row6\" class=\"row_heading level0 row6\" >6</th>\n",
              "                        <td id=\"T_99460e36_0be3_11eb_a8ee_0242ac1c0002row6_col0\" class=\"data row6 col0\" >Decision_Tree</td>\n",
              "                        <td id=\"T_99460e36_0be3_11eb_a8ee_0242ac1c0002row6_col1\" class=\"data row6 col1\" >0.845000</td>\n",
              "            </tr>\n",
              "            <tr>\n",
              "                        <th id=\"T_99460e36_0be3_11eb_a8ee_0242ac1c0002level0_row7\" class=\"row_heading level0 row7\" >7</th>\n",
              "                        <td id=\"T_99460e36_0be3_11eb_a8ee_0242ac1c0002row7_col0\" class=\"data row7 col0\" >Extra_Trees</td>\n",
              "                        <td id=\"T_99460e36_0be3_11eb_a8ee_0242ac1c0002row7_col1\" class=\"data row7 col1\" >0.825000</td>\n",
              "            </tr>\n",
              "            <tr>\n",
              "                        <th id=\"T_99460e36_0be3_11eb_a8ee_0242ac1c0002level0_row8\" class=\"row_heading level0 row8\" >8</th>\n",
              "                        <td id=\"T_99460e36_0be3_11eb_a8ee_0242ac1c0002row8_col0\" class=\"data row8 col0\" >Random_Forest</td>\n",
              "                        <td id=\"T_99460e36_0be3_11eb_a8ee_0242ac1c0002row8_col1\" class=\"data row8 col1\" >0.860000</td>\n",
              "            </tr>\n",
              "            <tr>\n",
              "                        <th id=\"T_99460e36_0be3_11eb_a8ee_0242ac1c0002level0_row9\" class=\"row_heading level0 row9\" >9</th>\n",
              "                        <td id=\"T_99460e36_0be3_11eb_a8ee_0242ac1c0002row9_col0\" class=\"data row9 col0\" >Neural_Net</td>\n",
              "                        <td id=\"T_99460e36_0be3_11eb_a8ee_0242ac1c0002row9_col1\" class=\"data row9 col1\" >0.870000</td>\n",
              "            </tr>\n",
              "            <tr>\n",
              "                        <th id=\"T_99460e36_0be3_11eb_a8ee_0242ac1c0002level0_row10\" class=\"row_heading level0 row10\" >10</th>\n",
              "                        <td id=\"T_99460e36_0be3_11eb_a8ee_0242ac1c0002row10_col0\" class=\"data row10 col0\" >AdaBoost</td>\n",
              "                        <td id=\"T_99460e36_0be3_11eb_a8ee_0242ac1c0002row10_col1\" class=\"data row10 col1\" >0.835000</td>\n",
              "            </tr>\n",
              "            <tr>\n",
              "                        <th id=\"T_99460e36_0be3_11eb_a8ee_0242ac1c0002level0_row11\" class=\"row_heading level0 row11\" >11</th>\n",
              "                        <td id=\"T_99460e36_0be3_11eb_a8ee_0242ac1c0002row11_col0\" class=\"data row11 col0\" >Naive_Bayes</td>\n",
              "                        <td id=\"T_99460e36_0be3_11eb_a8ee_0242ac1c0002row11_col1\" class=\"data row11 col1\" >0.855000</td>\n",
              "            </tr>\n",
              "            <tr>\n",
              "                        <th id=\"T_99460e36_0be3_11eb_a8ee_0242ac1c0002level0_row12\" class=\"row_heading level0 row12\" >12</th>\n",
              "                        <td id=\"T_99460e36_0be3_11eb_a8ee_0242ac1c0002row12_col0\" class=\"data row12 col0\" >QDA</td>\n",
              "                        <td id=\"T_99460e36_0be3_11eb_a8ee_0242ac1c0002row12_col1\" class=\"data row12 col1\" >0.850000</td>\n",
              "            </tr>\n",
              "            <tr>\n",
              "                        <th id=\"T_99460e36_0be3_11eb_a8ee_0242ac1c0002level0_row13\" class=\"row_heading level0 row13\" >13</th>\n",
              "                        <td id=\"T_99460e36_0be3_11eb_a8ee_0242ac1c0002row13_col0\" class=\"data row13 col0\" >SGD</td>\n",
              "                        <td id=\"T_99460e36_0be3_11eb_a8ee_0242ac1c0002row13_col1\" class=\"data row13 col1\" >0.830000</td>\n",
              "            </tr>\n",
              "    </tbody></table>"
            ],
            "text/plain": [
              "<pandas.io.formats.style.Styler at 0x7fe2bce8b630>"
            ]
          },
          "metadata": {
            "tags": []
          },
          "execution_count": 30
        }
      ]
    },
    {
      "cell_type": "markdown",
      "metadata": {
        "id": "k9v0c-6cNhch"
      },
      "source": [
        "##Bar plot of model performance"
      ]
    },
    {
      "cell_type": "code",
      "metadata": {
        "id": "DGmtNegaNebN",
        "outputId": "c88992df-5ffd-4b3d-ff47-658852560bd4",
        "colab": {
          "base_uri": "https://localhost:8080/",
          "height": 285
        }
      },
      "source": [
        "sns.set(style=\"whitegrid\")\n",
        "ax = sns.barplot(y=\"name\", x=\"score\", data=df)"
      ],
      "execution_count": 31,
      "outputs": [
        {
          "output_type": "display_data",
          "data": {
            "image/png": "[encoded data removed]",
            "text/plain": [
              "<Figure size 432x288 with 1 Axes>"
            ]
          },
          "metadata": {
            "tags": []
          }
        }
      ]
    }
  ]
}
